{
 "cells": [
  {
   "cell_type": "code",
   "execution_count": 2,
   "metadata": {},
   "outputs": [],
   "source": [
    "# import libraries and functions\n",
    "import pandas as pd\n",
    "import matplotlib.pyplot as plt\n",
    "from pyparsing import conditionAsParseAction\n",
    "import statsmodels.api as sm\n",
    "import seaborn as sns"
   ]
  },
  {
   "cell_type": "code",
   "execution_count": 3,
   "metadata": {},
   "outputs": [],
   "source": [
    "# load the data and convert to a dataframe\n",
    "data = 'winequality-red.csv'\n",
    "df = pd.read_csv(data, sep=\";\")"
   ]
  },
  {
   "cell_type": "code",
   "execution_count": 3,
   "metadata": {},
   "outputs": [
    {
     "name": "stdout",
     "output_type": "stream",
     "text": [
      "----------------------------------------------------------\n",
      "   fixed acidity  volatile acidity  citric acid  residual sugar  chlorides  \\\n",
      "0            7.4              0.70         0.00             1.9      0.076   \n",
      "1            7.8              0.88         0.00             2.6      0.098   \n",
      "2            7.8              0.76         0.04             2.3      0.092   \n",
      "3           11.2              0.28         0.56             1.9      0.075   \n",
      "4            7.4              0.70         0.00             1.9      0.076   \n",
      "\n",
      "   free sulfur dioxide  total sulfur dioxide  density    pH  sulphates  \\\n",
      "0                 11.0                  34.0   0.9978  3.51       0.56   \n",
      "1                 25.0                  67.0   0.9968  3.20       0.68   \n",
      "2                 15.0                  54.0   0.9970  3.26       0.65   \n",
      "3                 17.0                  60.0   0.9980  3.16       0.58   \n",
      "4                 11.0                  34.0   0.9978  3.51       0.56   \n",
      "\n",
      "   alcohol  quality  \n",
      "0      9.4        5  \n",
      "1      9.8        5  \n",
      "2      9.8        5  \n",
      "3      9.8        6  \n",
      "4      9.4        5  \n",
      "----------------------------------------------------------\n"
     ]
    }
   ],
   "source": [
    "# print the first 5 rows of the dataframe\n",
    "print(\"----------------------------------------------------------\")\n",
    "print(df.head(5))\n",
    "print(\"----------------------------------------------------------\")"
   ]
  },
  {
   "cell_type": "code",
   "execution_count": 4,
   "metadata": {},
   "outputs": [
    {
     "name": "stdout",
     "output_type": "stream",
     "text": [
      "Cantidad de filas (observaciones) y columnas (variables): (1599, 12)\n",
      "----------------------------------------------------------\n"
     ]
    }
   ],
   "source": [
    "# basic information about the dataframe\n",
    "print('Cantidad de filas (observaciones) y columnas (variables):',df.shape)\n",
    "print(\"----------------------------------------------------------\")"
   ]
  },
  {
   "cell_type": "code",
   "execution_count": 5,
   "metadata": {},
   "outputs": [
    {
     "name": "stdout",
     "output_type": "stream",
     "text": [
      "<class 'pandas.core.frame.DataFrame'>\n",
      "RangeIndex: 1599 entries, 0 to 1598\n",
      "Data columns (total 12 columns):\n",
      " #   Column                Non-Null Count  Dtype  \n",
      "---  ------                --------------  -----  \n",
      " 0   fixed acidity         1599 non-null   float64\n",
      " 1   volatile acidity      1599 non-null   float64\n",
      " 2   citric acid           1599 non-null   float64\n",
      " 3   residual sugar        1599 non-null   float64\n",
      " 4   chlorides             1599 non-null   float64\n",
      " 5   free sulfur dioxide   1599 non-null   float64\n",
      " 6   total sulfur dioxide  1599 non-null   float64\n",
      " 7   density               1599 non-null   float64\n",
      " 8   pH                    1599 non-null   float64\n",
      " 9   sulphates             1599 non-null   float64\n",
      " 10  alcohol               1599 non-null   float64\n",
      " 11  quality               1599 non-null   int64  \n",
      "dtypes: float64(11), int64(1)\n",
      "memory usage: 150.0 KB\n",
      "None\n",
      "----------------------------------------------------------\n"
     ]
    }
   ],
   "source": [
    "info = df.info()\n",
    "print(info)\n",
    "print(\"----------------------------------------------------------\")"
   ]
  },
  {
   "cell_type": "code",
   "execution_count": 6,
   "metadata": {},
   "outputs": [
    {
     "name": "stdout",
     "output_type": "stream",
     "text": [
      "Tipo de datos: \n",
      " fixed acidity           float64\n",
      "volatile acidity        float64\n",
      "citric acid             float64\n",
      "residual sugar          float64\n",
      "chlorides               float64\n",
      "free sulfur dioxide     float64\n",
      "total sulfur dioxide    float64\n",
      "density                 float64\n",
      "pH                      float64\n",
      "sulphates               float64\n",
      "alcohol                 float64\n",
      "quality                   int64\n",
      "dtype: object\n",
      "----------------------------------------------------------\n"
     ]
    }
   ],
   "source": [
    "print('Tipo de datos: \\n',df.dtypes)\n",
    "print(\"----------------------------------------------------------\")"
   ]
  },
  {
   "cell_type": "code",
   "execution_count": 7,
   "metadata": {},
   "outputs": [
    {
     "name": "stdout",
     "output_type": "stream",
     "text": [
      "       fixed acidity  volatile acidity  citric acid  residual sugar  \\\n",
      "count    1599.000000       1599.000000  1599.000000     1599.000000   \n",
      "mean        8.319637          0.527821     0.270976        2.538806   \n",
      "std         1.741096          0.179060     0.194801        1.409928   \n",
      "min         4.600000          0.120000     0.000000        0.900000   \n",
      "25%         7.100000          0.390000     0.090000        1.900000   \n",
      "50%         7.900000          0.520000     0.260000        2.200000   \n",
      "75%         9.200000          0.640000     0.420000        2.600000   \n",
      "max        15.900000          1.580000     1.000000       15.500000   \n",
      "\n",
      "         chlorides  free sulfur dioxide  total sulfur dioxide      density  \\\n",
      "count  1599.000000          1599.000000           1599.000000  1599.000000   \n",
      "mean      0.087467            15.874922             46.467792     0.996747   \n",
      "std       0.047065            10.460157             32.895324     0.001887   \n",
      "min       0.012000             1.000000              6.000000     0.990070   \n",
      "25%       0.070000             7.000000             22.000000     0.995600   \n",
      "50%       0.079000            14.000000             38.000000     0.996750   \n",
      "75%       0.090000            21.000000             62.000000     0.997835   \n",
      "max       0.611000            72.000000            289.000000     1.003690   \n",
      "\n",
      "                pH    sulphates      alcohol      quality  \n",
      "count  1599.000000  1599.000000  1599.000000  1599.000000  \n",
      "mean      3.311113     0.658149    10.422983     5.636023  \n",
      "std       0.154386     0.169507     1.065668     0.807569  \n",
      "min       2.740000     0.330000     8.400000     3.000000  \n",
      "25%       3.210000     0.550000     9.500000     5.000000  \n",
      "50%       3.310000     0.620000    10.200000     6.000000  \n",
      "75%       3.400000     0.730000    11.100000     6.000000  \n",
      "max       4.010000     2.000000    14.900000     8.000000  \n",
      "----------------------------------------------------------\n"
     ]
    }
   ],
   "source": [
    "describe = df.describe()\n",
    "print(describe)\n",
    "print(\"----------------------------------------------------------\")"
   ]
  },
  {
   "cell_type": "code",
   "execution_count": 8,
   "metadata": {},
   "outputs": [
    {
     "name": "stdout",
     "output_type": "stream",
     "text": [
      "\n",
      "\n",
      "Variable:  fixed acidity\n",
      "Quantiles:  0.10    6.5\n",
      "0.25    7.1\n",
      "0.50    7.9\n",
      "Name: fixed acidity, dtype: float64\n",
      "Desviación estandar:  1.7410963181276953\n",
      "Promedio:  8.31963727329581\n",
      "Minimo:  4.6\n",
      "Maximo:  15.9\n",
      "----------------------------------------------------------\n",
      "\n",
      "\n",
      "Variable:  volatile acidity\n",
      "Quantiles:  0.10    0.31\n",
      "0.25    0.39\n",
      "0.50    0.52\n",
      "Name: volatile acidity, dtype: float64\n",
      "Desviación estandar:  0.17905970415353537\n",
      "Promedio:  0.5278205128205128\n",
      "Minimo:  0.12\n",
      "Maximo:  1.58\n",
      "----------------------------------------------------------\n",
      "\n",
      "\n",
      "Variable:  citric acid\n",
      "Quantiles:  0.10    0.01\n",
      "0.25    0.09\n",
      "0.50    0.26\n",
      "Name: citric acid, dtype: float64\n",
      "Desviación estandar:  0.19480113740531857\n",
      "Promedio:  0.2709756097560976\n",
      "Minimo:  0.0\n",
      "Maximo:  1.0\n",
      "----------------------------------------------------------\n",
      "\n",
      "\n",
      "Variable:  residual sugar\n",
      "Quantiles:  0.10    1.7\n",
      "0.25    1.9\n",
      "0.50    2.2\n",
      "Name: residual sugar, dtype: float64\n",
      "Desviación estandar:  1.4099280595072798\n",
      "Promedio:  2.53880550343965\n",
      "Minimo:  0.9\n",
      "Maximo:  15.5\n",
      "----------------------------------------------------------\n",
      "\n",
      "\n",
      "Variable:  chlorides\n",
      "Quantiles:  0.10    0.060\n",
      "0.25    0.070\n",
      "0.50    0.079\n",
      "Name: chlorides, dtype: float64\n",
      "Desviación estandar:  0.0470653020100901\n",
      "Promedio:  0.08746654158849279\n",
      "Minimo:  0.012\n",
      "Maximo:  0.611\n",
      "----------------------------------------------------------\n",
      "\n",
      "\n",
      "Variable:  free sulfur dioxide\n",
      "Quantiles:  0.10     5.0\n",
      "0.25     7.0\n",
      "0.50    14.0\n",
      "Name: free sulfur dioxide, dtype: float64\n",
      "Desviación estandar:  10.460156969809725\n",
      "Promedio:  15.874921826141339\n",
      "Minimo:  1.0\n",
      "Maximo:  72.0\n",
      "----------------------------------------------------------\n",
      "\n",
      "\n",
      "Variable:  total sulfur dioxide\n",
      "Quantiles:  0.10    14.0\n",
      "0.25    22.0\n",
      "0.50    38.0\n",
      "Name: total sulfur dioxide, dtype: float64\n",
      "Desviación estandar:  32.895324478299074\n",
      "Promedio:  46.46779237023139\n",
      "Minimo:  6.0\n",
      "Maximo:  289.0\n",
      "----------------------------------------------------------\n",
      "\n",
      "\n",
      "Variable:  density\n",
      "Quantiles:  0.10    0.994556\n",
      "0.25    0.995600\n",
      "0.50    0.996750\n",
      "Name: density, dtype: float64\n",
      "Desviación estandar:  0.0018873339538425554\n",
      "Promedio:  0.9967466791744841\n",
      "Minimo:  0.99007\n",
      "Maximo:  1.00369\n",
      "----------------------------------------------------------\n",
      "\n",
      "\n",
      "Variable:  pH\n",
      "Quantiles:  0.10    3.12\n",
      "0.25    3.21\n",
      "0.50    3.31\n",
      "Name: pH, dtype: float64\n",
      "Desviación estandar:  0.15438646490354277\n",
      "Promedio:  3.3111131957473416\n",
      "Minimo:  2.74\n",
      "Maximo:  4.01\n",
      "----------------------------------------------------------\n",
      "\n",
      "\n",
      "Variable:  sulphates\n",
      "Quantiles:  0.10    0.50\n",
      "0.25    0.55\n",
      "0.50    0.62\n",
      "Name: sulphates, dtype: float64\n",
      "Desviación estandar:  0.16950697959010996\n",
      "Promedio:  0.6581488430268917\n",
      "Minimo:  0.33\n",
      "Maximo:  2.0\n",
      "----------------------------------------------------------\n",
      "\n",
      "\n",
      "Variable:  alcohol\n",
      "Quantiles:  0.10     9.3\n",
      "0.25     9.5\n",
      "0.50    10.2\n",
      "Name: alcohol, dtype: float64\n",
      "Desviación estandar:  1.0656675818473946\n",
      "Promedio:  10.422983114446529\n",
      "Minimo:  8.4\n",
      "Maximo:  14.9\n",
      "----------------------------------------------------------\n",
      "\n",
      "\n",
      "Variable:  quality\n",
      "Quantiles:  0.10    5.0\n",
      "0.25    5.0\n",
      "0.50    6.0\n",
      "Name: quality, dtype: float64\n",
      "Desviación estandar:  0.807569439734705\n",
      "Promedio:  5.6360225140712945\n",
      "Minimo:  3\n",
      "Maximo:  8\n",
      "----------------------------------------------------------\n"
     ]
    }
   ],
   "source": [
    "# basic information about the dataframe, without using the describe function\n",
    "for i in df.columns:\n",
    "    print(\"\\n\\nVariable: \", df[i].name)\n",
    "    print(\"Quantiles: \", df[i].quantile(q=[0.1, 0.25, 0.5]))\n",
    "    print(\"Desviación estandar: \", df[i].std())\n",
    "    print(\"Promedio: \", df[i].mean())\n",
    "    print(\"Minimo: \", df[i].min())\n",
    "    print(\"Maximo: \",df[i].max())\n",
    "    print(\"----------------------------------------------------------\")"
   ]
  },
  {
   "cell_type": "code",
   "execution_count": 9,
   "metadata": {},
   "outputs": [
    {
     "name": "stdout",
     "output_type": "stream",
     "text": [
      "0     7.4000   0.7000   0.0000   1.9000   0.0760   11.0000  34.0000  0.9978   \\\n",
      "1         7.8    0.880     0.00      2.6    0.098     25.0     67.0  0.99680   \n",
      "2         7.8    0.760     0.04      2.3    0.092     15.0     54.0  0.99700   \n",
      "3        11.2    0.280     0.56      1.9    0.075     17.0     60.0  0.99800   \n",
      "4         7.4    0.700     0.00      1.9    0.076     11.0     34.0  0.99780   \n",
      "5         7.4    0.660     0.00      1.8    0.075     13.0     40.0  0.99780   \n",
      "...       ...      ...      ...      ...      ...      ...      ...      ...   \n",
      "1594      6.2    0.600     0.08      2.0    0.090     32.0     44.0  0.99490   \n",
      "1595      5.9    0.550     0.10      2.2    0.062     39.0     51.0  0.99512   \n",
      "1596      6.3    0.510     0.13      2.3    0.076     29.0     40.0  0.99574   \n",
      "1597      5.9    0.645     0.12      2.0    0.075     32.0     44.0  0.99547   \n",
      "1598      6.0    0.310     0.47      3.6    0.067     18.0     42.0  0.99549   \n",
      "\n",
      "0     3.5100   0.5600   9.4000   5.0000   \n",
      "1        3.20     0.68      9.8        5  \n",
      "2        3.26     0.65      9.8        5  \n",
      "3        3.16     0.58      9.8        6  \n",
      "4        3.51     0.56      9.4        5  \n",
      "5        3.51     0.56      9.4        5  \n",
      "...       ...      ...      ...      ...  \n",
      "1594     3.45     0.58     10.5        5  \n",
      "1595     3.52     0.76     11.2        6  \n",
      "1596     3.42     0.75     11.0        6  \n",
      "1597     3.57     0.71     10.2        5  \n",
      "1598     3.39     0.66     11.0        6  \n",
      "\n",
      "[1598 rows x 12 columns]\n",
      "----------------------------------------------------------\n"
     ]
    }
   ],
   "source": [
    "# take off the column names\n",
    "new_header = df.iloc[0] #grab the first row for the header\n",
    "df = df[1:] #take the data less the header row\n",
    "df.columns = new_header #set the header row as the df header\n",
    "df.rename(columns=df.iloc[0]).drop(df.index[0])\n",
    "print(df)\n",
    "print(\"----------------------------------------------------------\")"
   ]
  },
  {
   "cell_type": "code",
   "execution_count": 10,
   "metadata": {},
   "outputs": [
    {
     "name": "stdout",
     "output_type": "stream",
     "text": [
      "      fixed acidity  volatile acidity  citric acid  residual sugar  chlorides  \\\n",
      "1               7.8             0.880         0.00             2.6      0.098   \n",
      "2               7.8             0.760         0.04             2.3      0.092   \n",
      "3              11.2             0.280         0.56             1.9      0.075   \n",
      "4               7.4             0.700         0.00             1.9      0.076   \n",
      "5               7.4             0.660         0.00             1.8      0.075   \n",
      "...             ...               ...          ...             ...        ...   \n",
      "1594            6.2             0.600         0.08             2.0      0.090   \n",
      "1595            5.9             0.550         0.10             2.2      0.062   \n",
      "1596            6.3             0.510         0.13             2.3      0.076   \n",
      "1597            5.9             0.645         0.12             2.0      0.075   \n",
      "1598            6.0             0.310         0.47             3.6      0.067   \n",
      "\n",
      "      free sulfur dioxide  total sulfur dioxide  density    pH  sulphates  \\\n",
      "1                    25.0                  67.0  0.99680  3.20       0.68   \n",
      "2                    15.0                  54.0  0.99700  3.26       0.65   \n",
      "3                    17.0                  60.0  0.99800  3.16       0.58   \n",
      "4                    11.0                  34.0  0.99780  3.51       0.56   \n",
      "5                    13.0                  40.0  0.99780  3.51       0.56   \n",
      "...                   ...                   ...      ...   ...        ...   \n",
      "1594                 32.0                  44.0  0.99490  3.45       0.58   \n",
      "1595                 39.0                  51.0  0.99512  3.52       0.76   \n",
      "1596                 29.0                  40.0  0.99574  3.42       0.75   \n",
      "1597                 32.0                  44.0  0.99547  3.57       0.71   \n",
      "1598                 18.0                  42.0  0.99549  3.39       0.66   \n",
      "\n",
      "      alcohol  quality  \n",
      "1         9.8        5  \n",
      "2         9.8        5  \n",
      "3         9.8        6  \n",
      "4         9.4        5  \n",
      "5         9.4        5  \n",
      "...       ...      ...  \n",
      "1594     10.5        5  \n",
      "1595     11.2        6  \n",
      "1596     11.0        6  \n",
      "1597     10.2        5  \n",
      "1598     11.0        6  \n",
      "\n",
      "[1598 rows x 12 columns]\n",
      "----------------------------------------------------------\n"
     ]
    }
   ],
   "source": [
    "# add the column names back\n",
    "df.columns = [\"fixed acidity\", \"volatile acidity\", \"citric acid\", \"residual sugar\", \"chlorides\", \"free sulfur dioxide\", \"total sulfur dioxide\", \"density\", \"pH\", \"sulphates\", \"alcohol\", \"quality\"]\n",
    "print(df)\n",
    "print(\"----------------------------------------------------------\")"
   ]
  },
  {
   "cell_type": "code",
   "execution_count": 14,
   "metadata": {},
   "outputs": [
    {
     "data": {
      "image/png": "[encoded data removed]",
      "text/plain": [
       "<Figure size 1440x1080 with 12 Axes>"
      ]
     },
     "metadata": {
      "needs_background": "light"
     },
     "output_type": "display_data"
    }
   ],
   "source": [
    "# histograms\n",
    "index = 1\n",
    "plt.figure(figsize=(20,15))\n",
    "for i in df.columns:\n",
    "    plt.subplot(4,3,index)\n",
    "    plt.hist(df[i])\n",
    "    plt.title(i)\n",
    "    index += 1\n",
    "plt.show()"
   ]
  },
  {
   "cell_type": "markdown",
   "metadata": {},
   "source": [
    "## Regresión lineal múltiple"
   ]
  },
  {
   "cell_type": "code",
   "execution_count": 8,
   "metadata": {},
   "outputs": [
    {
     "name": "stdout",
     "output_type": "stream",
     "text": [
      "   fixed acidity  volatile acidity  citric acid  residual sugar  chlorides  \\\n",
      "0            7.4              0.70         0.00             1.9      0.076   \n",
      "1            7.8              0.88         0.00             2.6      0.098   \n",
      "2            7.8              0.76         0.04             2.3      0.092   \n",
      "3           11.2              0.28         0.56             1.9      0.075   \n",
      "4            7.4              0.70         0.00             1.9      0.076   \n",
      "\n",
      "   free sulfur dioxide  total sulfur dioxide  density    pH  sulphates  \\\n",
      "0                 11.0                  34.0   0.9978  3.51       0.56   \n",
      "1                 25.0                  67.0   0.9968  3.20       0.68   \n",
      "2                 15.0                  54.0   0.9970  3.26       0.65   \n",
      "3                 17.0                  60.0   0.9980  3.16       0.58   \n",
      "4                 11.0                  34.0   0.9978  3.51       0.56   \n",
      "\n",
      "   alcohol  quality  \n",
      "0      9.4        5  \n",
      "1      9.8        5  \n",
      "2      9.8        5  \n",
      "3      9.8        6  \n",
      "4      9.4        5  \n",
      "      fixed acidity  volatile acidity  citric acid  residual sugar  chlorides  \\\n",
      "0               7.4             0.700         0.00             1.9      0.076   \n",
      "1               7.8             0.880         0.00             2.6      0.098   \n",
      "2               7.8             0.760         0.04             2.3      0.092   \n",
      "3              11.2             0.280         0.56             1.9      0.075   \n",
      "4               7.4             0.700         0.00             1.9      0.076   \n",
      "...             ...               ...          ...             ...        ...   \n",
      "1594            6.2             0.600         0.08             2.0      0.090   \n",
      "1595            5.9             0.550         0.10             2.2      0.062   \n",
      "1596            6.3             0.510         0.13             2.3      0.076   \n",
      "1597            5.9             0.645         0.12             2.0      0.075   \n",
      "1598            6.0             0.310         0.47             3.6      0.067   \n",
      "\n",
      "      free sulfur dioxide  total sulfur dioxide  density    pH  sulphates  \\\n",
      "0                    11.0                  34.0  0.99780  3.51       0.56   \n",
      "1                    25.0                  67.0  0.99680  3.20       0.68   \n",
      "2                    15.0                  54.0  0.99700  3.26       0.65   \n",
      "3                    17.0                  60.0  0.99800  3.16       0.58   \n",
      "4                    11.0                  34.0  0.99780  3.51       0.56   \n",
      "...                   ...                   ...      ...   ...        ...   \n",
      "1594                 32.0                  44.0  0.99490  3.45       0.58   \n",
      "1595                 39.0                  51.0  0.99512  3.52       0.76   \n",
      "1596                 29.0                  40.0  0.99574  3.42       0.75   \n",
      "1597                 32.0                  44.0  0.99547  3.57       0.71   \n",
      "1598                 18.0                  42.0  0.99549  3.39       0.66   \n",
      "\n",
      "      alcohol  \n",
      "0         9.4  \n",
      "1         9.8  \n",
      "2         9.8  \n",
      "3         9.8  \n",
      "4         9.4  \n",
      "...       ...  \n",
      "1594     10.5  \n",
      "1595     11.2  \n",
      "1596     11.0  \n",
      "1597     10.2  \n",
      "1598     11.0  \n",
      "\n",
      "[1599 rows x 11 columns]\n",
      "0       5\n",
      "1       5\n",
      "2       5\n",
      "3       6\n",
      "4       5\n",
      "       ..\n",
      "1594    5\n",
      "1595    6\n",
      "1596    6\n",
      "1597    5\n",
      "1598    6\n",
      "Name: quality, Length: 1599, dtype: int64\n"
     ]
    }
   ],
   "source": [
    "#Data with all features\n",
    "X = df.drop('quality', axis=1)\n",
    "y = df['quality']\n",
    "print(df.head())\n",
    "print(X)\n",
    "print(y)"
   ]
  },
  {
   "cell_type": "code",
   "execution_count": 6,
   "metadata": {},
   "outputs": [
    {
     "name": "stdout",
     "output_type": "stream",
     "text": [
      "Coefficients: \n",
      " [ 3.21701286e-02 -1.03467859e+00 -1.53320498e-01  1.23460437e-02\n",
      " -1.61715049e+00  5.08258596e-03 -3.32744691e-03 -1.57794200e+01\n",
      " -3.84377830e-01  8.10208705e-01  2.88021969e-01]\n",
      "Intercept:  19.611580823864184\n",
      "Model:\n",
      "y = 19.6116 + 0.0322x1 + -1.0347x2 + -0.1533x3\n",
      "\n",
      "--Metricas--\n",
      " Mean squared error: 0.366301\n",
      " r2_score: 0.3869\n",
      " Mean Absolute Error: 0.4678\n",
      " explained_variance_score: 0.388398 \n",
      " Precision:0.386904\n"
     ]
    }
   ],
   "source": [
    "# LINEAR REGRESSION\n",
    "from sklearn.linear_model import LinearRegression\n",
    "from sklearn.model_selection import train_test_split\n",
    "from sklearn.metrics import mean_squared_error, r2_score, mean_absolute_error, explained_variance_score\n",
    "\n",
    "# Training and testing data\n",
    "X_train, X_test, y_train, y_test = train_test_split(X, y, test_size=0.2, random_state=3)\n",
    "lr_multiple = LinearRegression()\n",
    "\n",
    "# Training model\n",
    "lr_multiple.fit(X_train, y_train)\n",
    "\n",
    "# Testing model\n",
    "y_pred = lr_multiple.predict(X_test)\n",
    "print('Coefficients: \\n', lr_multiple.coef_)\n",
    "print('Intercept: ', lr_multiple.intercept_)\n",
    "\n",
    "print(\"Model:\\ny = {:.4f} + {:.4f}x1 + {:.4f}x2 + {:.4f}x3\".format(lr_multiple.intercept_, lr_multiple.coef_[0], lr_multiple.coef_[1], lr_multiple.coef_[2], lr_multiple.coef_[3]))\n",
    "\n",
    "print(\"\\n--Metricas--\")\n",
    "print(\" Mean squared error: {:.6f}\\n r2_score: {:.4f}\\n Mean Absolute Error: {:.4f}\\n explained_variance_score: {:.6f} \\n Precision:{:.6f}\".format(mean_squared_error(y_test, y_pred),r2_score(y_test, y_pred),mean_absolute_error(y_test, y_pred),explained_variance_score(y_test, y_pred), lr_multiple.score(X_test, y_test)))"
   ]
  }
 ],
 "metadata": {
  "kernelspec": {
   "display_name": "Python 3.10.2 64-bit",
   "language": "python",
   "name": "python3"
  },
  "language_info": {
   "codemirror_mode": {
    "name": "ipython",
    "version": 3
   },
   "file_extension": ".py",
   "mimetype": "text/x-python",
   "name": "python",
   "nbconvert_exporter": "python",
   "pygments_lexer": "ipython3",
   "version": "3.10.2"
  },
  "orig_nbformat": 4,
  "vscode": {
   "interpreter": {
    "hash": "59c141bcedcfe40fdffcf75d413fea6f6aa0f63753b529ca5dbe88b6bd38d09b"
   }
  }
 },
 "nbformat": 4,
 "nbformat_minor": 2
}
