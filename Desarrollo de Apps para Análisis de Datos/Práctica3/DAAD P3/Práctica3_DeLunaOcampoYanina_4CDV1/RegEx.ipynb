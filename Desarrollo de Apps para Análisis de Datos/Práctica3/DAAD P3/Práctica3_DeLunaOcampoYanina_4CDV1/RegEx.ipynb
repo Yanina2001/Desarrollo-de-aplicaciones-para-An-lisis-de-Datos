{
 "cells": [
  {
   "cell_type": "code",
   "execution_count": 1,
   "id": "f316c448",
   "metadata": {},
   "outputs": [],
   "source": [
    "r = open(\"C:/Users/yanin/Desktop/Práctica3/DAAD P3/expenses.txt\")\n",
    "\n",
    "arch = r.read()\n",
    "arch = arch.split('\\n')"
   ]
  },
  {
   "cell_type": "code",
   "execution_count": 2,
   "id": "f64903e2",
   "metadata": {},
   "outputs": [],
   "source": [
    "lista = []\n",
    "for i in arch:\n",
    "    lista.append(i)"
   ]
  },
  {
   "cell_type": "code",
   "execution_count": 3,
   "id": "9778f358",
   "metadata": {},
   "outputs": [],
   "source": [
    "# a)\n",
    "pat = r'D'"
   ]
  },
  {
   "cell_type": "code",
   "execution_count": 5,
   "id": "86a75561",
   "metadata": {},
   "outputs": [],
   "source": [
    "# b)\n",
    "pat = r'\\''"
   ]
  },
  {
   "cell_type": "code",
   "execution_count": 7,
   "id": "615b93cd",
   "metadata": {},
   "outputs": [],
   "source": [
    "# c)\n",
    "pat = r'\\\"'"
   ]
  },
  {
   "cell_type": "code",
   "execution_count": 9,
   "id": "9008e810",
   "metadata": {},
   "outputs": [],
   "source": [
    "# d. Agregue un patrón que despliegues líneas que comiencen con el número 7 (siete).\n",
    "pat = r'^7'"
   ]
  },
  {
   "cell_type": "code",
   "execution_count": 11,
   "id": "44812b15",
   "metadata": {},
   "outputs": [],
   "source": [
    "# e. Agregue un patrón que despliegue líneas que terminen con una “r” o una “t”.\n",
    "pat = r'[r|t]$'"
   ]
  },
  {
   "cell_type": "code",
   "execution_count": 13,
   "id": "bb2572d7",
   "metadata": {},
   "outputs": [],
   "source": [
    "# f. Agregue un patrón que despliegue líneas que contengan un punto “.”\n",
    "pat = r'\\.'"
   ]
  },
  {
   "cell_type": "code",
   "execution_count": 15,
   "id": "26150f9f",
   "metadata": {},
   "outputs": [],
   "source": [
    "# g. Agregue un patrón que despliegues líneas que contengan una “r” seguida por una “g”. (La “r” y la “g” no necesariamente \n",
    "#tienen que estar en posiciones consecutivas).\n",
    "pat = r'r.*g'"
   ]
  },
  {
   "cell_type": "code",
   "execution_count": 17,
   "id": "d2879bca",
   "metadata": {},
   "outputs": [],
   "source": [
    "# h. Agregue un patrón que despliegue líneas que contengan dos caracteres consecutivos en mayúscula, por ejemplo: AA, DF, LM, \n",
    "# YW, …, etcétera.\n",
    "pat = r'.*[A-Z]{2}.*'"
   ]
  },
  {
   "cell_type": "code",
   "execution_count": 19,
   "id": "b911d917",
   "metadata": {},
   "outputs": [],
   "source": [
    "# i. Agregue un patrón que despliegue líneas que contengan una “,” (coma).\n",
    "pat = r'.*,.*'"
   ]
  },
  {
   "cell_type": "code",
   "execution_count": 39,
   "id": "71504b8c",
   "metadata": {},
   "outputs": [],
   "source": [
    "# j. Agregue un patrón que despliegues líneas que contengan tres o más comas. Las comas no necesariamente tienen que ser \n",
    "# consecutivas.\n",
    "pat = r'\\,.*\\,.*\\,'}"
   ]
  },
  {
   "cell_type": "code",
   "execution_count": 23,
   "id": "68b537e0",
   "metadata": {},
   "outputs": [],
   "source": [
    "# k. Agregue un patrón que despliegues líneas que NO contengan los caracteres v, w, x, y, o z.\n",
    "pat = r'^((?![v-z]).)*$'"
   ]
  },
  {
   "cell_type": "code",
   "execution_count": 42,
   "id": "f5577c81",
   "metadata": {},
   "outputs": [
    {
     "name": "stdout",
     "output_type": "stream",
     "text": [
      "5.25:supply:20170222:box of staples\n",
      "79.81:meal:20170222:lunch with ABC Corp. clients Al, Bob, and Cy\n",
      "43.00:travel:20170222:cab back to office\n",
      "383.75:travel:20170223:flight to Boston, to visit ABC Corp.\n",
      "55.00:travel:20170223:cab to ABC Corp. in Cambridge, MA\n",
      "23.25:meal:20170223:dinner at Logan Airport\n",
      "318.47:supply:20170224:paper, toner, pens, paperclips, tape\n",
      "142.12:meal:20170226:host dinner with ABC clients, Al, Bob, Cy, Dave, Ellie\n",
      "303.94:util:20170227:Peoples Gas\n",
      "121.07:util:20170227:Verizon Wireless\n",
      "7.59:supply:20170227:Python book (used)\n",
      "79.99:supply:20170227:spare 20\" monitor\n",
      "49.86:supply:20170228:Stoch Cal for Finance II\n",
      "6.53:meal:20170302:Dunkin Donuts, drive to Big Inc. near DC\n",
      "127.23:meal:20170302:dinner, Tavern64\n",
      "33.07:meal:20170303:dinner, Uncle Julio's\n",
      "86.00:travel:20170304:mileage, drive to/from Big Inc., Reston, VA\n",
      "22.00:travel:20170304:tolls\n",
      "378.81:travel:20170304:Hyatt Hotel, Reston VA, for Big Inc. meeting\n",
      "1247.49:supply:20170306:Dell 7000 laptop/workstation\n",
      "6.99:supply:20170306:HDMI cable\n",
      "212.06:util:20170308:Duquesne Light\n",
      "23.86:supply:20170309:Practical Guide to Quant Finance Interviews\n",
      "195.89:supply:20170309:black toner, HP 304A, 2-pack\n",
      "86.00:travel:20170317:mileage, drive to/from Big Inc., Reston, VA\n",
      "32.27:meal:20170317:lunch at Clyde's with Fred and Gina, Big Inc.\n",
      "22.00:travel:20170317:tolls\n",
      "119.56:util:20170319:Verizon Wireless\n",
      "284.23:util:20170323:Peoples Gas\n",
      "8.98:supply:20170325:Flair pens\n"
     ]
    }
   ],
   "source": [
    "# PRENDIENTE\n",
    "# l. Agregue un patrón que despliegue líneas que contenga cantidades de dinero entre 0.00 and 99.99. Trate de hacer la \n",
    "# expresión regular lo más compacta posible\n",
    "pat = r'[0-9]{0,2}\\.[0-9]{2}'\n",
    "\n",
    "for line in lista:\n",
    "    if re.search(pat, line) != None:\n",
    "        print(line)"
   ]
  },
  {
   "cell_type": "code",
   "execution_count": 25,
   "id": "072e1cbe",
   "metadata": {},
   "outputs": [],
   "source": [
    "# m. Agregue un patrón que despliegue líneas que contengas exactamente tres comas.\n",
    "pat = r'^[^,]+,[^,]+,[^,]+,[^,]+$'"
   ]
  },
  {
   "cell_type": "code",
   "execution_count": 27,
   "id": "d9637438",
   "metadata": {},
   "outputs": [],
   "source": [
    "# n. Agregue un patrón que despliegue líneas que contengan el carácter “(“. Es decir, un paréntesis de apertura.\n",
    "pat = r'\\('"
   ]
  },
  {
   "cell_type": "code",
   "execution_count": 53,
   "id": "1089d2f8",
   "metadata": {},
   "outputs": [],
   "source": [
    "# o. Agregue un patrón que despliegue líneas que describen comidas que cuesten al menos 100.00.\n",
    "pat = r'^([1-9][0-9][0-9].[0-9]{2})'"
   ]
  },
  {
   "cell_type": "code",
   "execution_count": 55,
   "id": "5843ccad",
   "metadata": {},
   "outputs": [],
   "source": [
    "# p. Agregue un patrón que despliegue líneas que tengan una categoría de gastos compuestas por exactamente cuatro caracteres \n",
    "# (El patrón debe funcionar inclusive si más líneas son agregadas al archivo, con nuevas categorías que no han sido definidas.\n",
    "pat = r'.*supply.*[a-zA-Z]{4}'"
   ]
  },
  {
   "cell_type": "code",
   "execution_count": 29,
   "id": "57f1f091",
   "metadata": {},
   "outputs": [],
   "source": [
    "# q. Agregue un patrón que despliegue líneas que para gastos ocurridos en marzo.\n",
    "pat = r'.*201703'"
   ]
  },
  {
   "cell_type": "code",
   "execution_count": 31,
   "id": "9294bdc4",
   "metadata": {},
   "outputs": [],
   "source": [
    "# r. Agregue un patrón que despliegue líneas que contengan una “a”, seguida por una “b”, seguida por una “c” (pueden haber \n",
    "# otros caracteres la “a” la ”b” y la ”c”).\n",
    "pat = r'ABC'"
   ]
  },
  {
   "cell_type": "code",
   "execution_count": 58,
   "id": "f93ba7d5",
   "metadata": {},
   "outputs": [],
   "source": [
    "# s. Agregue un patrón que despliegue líneas que contengan secuencias de dos caracteres, seguidas por la MISMA secuencia de dos \n",
    "# caracteres dos veces. Es decir, cada línea que coincide con la expresión regular debe contener al menos una secuencia de dos \n",
    "# caracteres repetida al menos tres veces.\n",
    "pat = r'(.*[a-z]{2}.*){3}'"
   ]
  },
  {
   "cell_type": "code",
   "execution_count": 59,
   "id": "03b257e8",
   "metadata": {},
   "outputs": [
    {
     "name": "stdout",
     "output_type": "stream",
     "text": [
      "Amount:Category:Date:Description\n",
      "5.25:supply:20170222:box of staples\n",
      "79.81:meal:20170222:lunch with ABC Corp. clients Al, Bob, and Cy\n",
      "43.00:travel:20170222:cab back to office\n",
      "383.75:travel:20170223:flight to Boston, to visit ABC Corp.\n",
      "55.00:travel:20170223:cab to ABC Corp. in Cambridge, MA\n",
      "23.25:meal:20170223:dinner at Logan Airport\n",
      "318.47:supply:20170224:paper, toner, pens, paperclips, tape\n",
      "142.12:meal:20170226:host dinner with ABC clients, Al, Bob, Cy, Dave, Ellie\n",
      "303.94:util:20170227:Peoples Gas\n",
      "121.07:util:20170227:Verizon Wireless\n",
      "7.59:supply:20170227:Python book (used)\n",
      "79.99:supply:20170227:spare 20\" monitor\n",
      "49.86:supply:20170228:Stoch Cal for Finance II\n",
      "6.53:meal:20170302:Dunkin Donuts, drive to Big Inc. near DC\n",
      "127.23:meal:20170302:dinner, Tavern64\n",
      "33.07:meal:20170303:dinner, Uncle Julio's\n",
      "86.00:travel:20170304:mileage, drive to/from Big Inc., Reston, VA\n",
      "22.00:travel:20170304:tolls\n",
      "378.81:travel:20170304:Hyatt Hotel, Reston VA, for Big Inc. meeting\n",
      "1247.49:supply:20170306:Dell 7000 laptop/workstation\n",
      "6.99:supply:20170306:HDMI cable\n",
      "212.06:util:20170308:Duquesne Light\n",
      "23.86:supply:20170309:Practical Guide to Quant Finance Interviews\n",
      "195.89:supply:20170309:black toner, HP 304A, 2-pack\n",
      "86.00:travel:20170317:mileage, drive to/from Big Inc., Reston, VA\n",
      "32.27:meal:20170317:lunch at Clyde's with Fred and Gina, Big Inc.\n",
      "22.00:travel:20170317:tolls\n",
      "119.56:util:20170319:Verizon Wireless\n",
      "284.23:util:20170323:Peoples Gas\n",
      "8.98:supply:20170325:Flair pens\n"
     ]
    }
   ],
   "source": [
    "import re\n",
    "\n",
    "for line in lista:\n",
    "    if re.search(pat, line) != None:\n",
    "        print(line)"
   ]
  },
  {
   "cell_type": "code",
   "execution_count": 33,
   "id": "ce2d070f",
   "metadata": {},
   "outputs": [],
   "source": [
    "# t. Agregue un patrón que despliegue líneas que contengan en la descripción de gastos una “a” minúscula y un digito entre 0 y 9\n",
    "# en cualquier orden. Es decir, el carácter “a” puede aparecer antes o después del digito.\n",
    "pat = r'.*supply.*((a.*[0-9])|([0-9].*a))'"
   ]
  },
  {
   "cell_type": "code",
   "execution_count": 35,
   "id": "5781a687",
   "metadata": {},
   "outputs": [],
   "source": [
    "# u. Agregue un patrón que despliegues líneas que NO contengan letras mayúsculas.\n",
    "pat = r'(?!.*[A-Z])^.*$'"
   ]
  },
  {
   "cell_type": "code",
   "execution_count": 37,
   "id": "13db6ba8",
   "metadata": {},
   "outputs": [],
   "source": [
    "# v. Agregue un patrón que despliegue líneas que contengan el carácter “d”, posiblemente seguido de otros caracteres, seguido de\n",
    "# una “i”. Coincidencias incluirían palabras tales como: diver, doily, drip, diplomat, etc.\n",
    "pat = r'd.*i'"
   ]
  },
  {
   "cell_type": "code",
   "execution_count": null,
   "id": "a155a002",
   "metadata": {},
   "outputs": [],
   "source": []
  }
 ],
 "metadata": {
  "kernelspec": {
   "display_name": "Python 3 (ipykernel)",
   "language": "python",
   "name": "python3"
  },
  "language_info": {
   "codemirror_mode": {
    "name": "ipython",
    "version": 3
   },
   "file_extension": ".py",
   "mimetype": "text/x-python",
   "name": "python",
   "nbconvert_exporter": "python",
   "pygments_lexer": "ipython3",
   "version": "3.9.7"
  }
 },
 "nbformat": 4,
 "nbformat_minor": 5
}
